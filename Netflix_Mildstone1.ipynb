{
 "cells": [
  {
   "cell_type": "code",
   "execution_count": 0,
   "metadata": {
    "application/vnd.databricks.v1+cell": {
     "cellMetadata": {
      "byteLimit": 2048000,
      "rowLimit": 10000
     },
     "inputWidgets": {},
     "nuid": "0efee9ec-fc03-4a3d-9c8b-f4e64aa708e7",
     "showTitle": false,
     "tableResultSettingsMap": {},
     "title": ""
    }
   },
   "outputs": [
    {
     "output_type": "display_data",
     "data": {
      "text/html": [
       "<style scoped>\n",
       "  .table-result-container {\n",
       "    max-height: 300px;\n",
       "    overflow: auto;\n",
       "  }\n",
       "  table, th, td {\n",
       "    border: 1px solid black;\n",
       "    border-collapse: collapse;\n",
       "  }\n",
       "  th, td {\n",
       "    padding: 5px;\n",
       "  }\n",
       "  th {\n",
       "    text-align: left;\n",
       "  }\n",
       "</style><div class='table-result-container'><table class='table-result'><thead style='background-color: white'><tr><th>show_id</th><th>type</th><th>title</th><th>director</th><th>cast</th><th>country</th><th>date_added</th><th>release_year</th><th>rating</th><th>duration</th><th>listed_in</th><th>description</th></tr></thead><tbody><tr><td>s1</td><td>Movie</td><td>Dick Johnson Is Dead</td><td>Kirsten Johnson</td><td>null</td><td>United States</td><td>September 25, 2021</td><td>2020</td><td>PG-13</td><td>90 min</td><td>Documentaries</td><td>As her father nears the end of his life, filmmaker Kirsten Johnson stages his death in inventive and comical ways to help them both face the inevitable.</td></tr><tr><td>s2</td><td>TV Show</td><td>Blood & Water</td><td>null</td><td>Ama Qamata, Khosi Ngema, Gail Mabalane, Thabang Molaba, Dillon Windvogel, Natasha Thahane, Arno Greeff, Xolile Tshabalala, Getmore Sithole, Cindy Mahlangu, Ryle De Morny, Greteli Fincham, Sello Maake Ka-Ncube, Odwa Gwanya, Mekaila Mathys, Sandi Schultz, Duane Williams, Shamilla Miller, Patrick Mofokeng</td><td>South Africa</td><td>September 24, 2021</td><td>2021</td><td>TV-MA</td><td>2 Seasons</td><td>International TV Shows, TV Dramas, TV Mysteries</td><td>After crossing paths at a party, a Cape Town teen sets out to prove whether a private-school swimming star is her sister who was abducted at birth.</td></tr><tr><td>s3</td><td>TV Show</td><td>Ganglands</td><td>Julien Leclercq</td><td>Sami Bouajila, Tracy Gotoas, Samuel Jouy, Nabiha Akkari, Sofia Lesaffre, Salim Kechiouche, Noureddine Farihi, Geert Van Rampelberg, Bakary Diombera</td><td>null</td><td>September 24, 2021</td><td>2021</td><td>TV-MA</td><td>1 Season</td><td>Crime TV Shows, International TV Shows, TV Action & Adventure</td><td>To protect his family from a powerful drug lord, skilled thief Mehdi and his expert team of robbers are pulled into a violent and deadly turf war.</td></tr><tr><td>s4</td><td>TV Show</td><td>Jailbirds New Orleans</td><td>null</td><td>null</td><td>null</td><td>September 24, 2021</td><td>2021</td><td>TV-MA</td><td>1 Season</td><td>Docuseries, Reality TV</td><td>Feuds, flirtations and toilet talk go down among the incarcerated women at the Orleans Justice Center in New Orleans on this gritty reality series.</td></tr><tr><td>s5</td><td>TV Show</td><td>Kota Factory</td><td>null</td><td>Mayur More, Jitendra Kumar, Ranjan Raj, Alam Khan, Ahsaas Channa, Revathi Pillai, Urvi Singh, Arun Kumar</td><td>India</td><td>September 24, 2021</td><td>2021</td><td>TV-MA</td><td>2 Seasons</td><td>International TV Shows, Romantic TV Shows, TV Comedies</td><td>In a city of coaching centers known to train India’s finest collegiate minds, an earnest but unexceptional student and his friends navigate campus life.</td></tr><tr><td>s6</td><td>TV Show</td><td>Midnight Mass</td><td>Mike Flanagan</td><td>Kate Siegel, Zach Gilford, Hamish Linklater, Henry Thomas, Kristin Lehman, Samantha Sloyan, Igby Rigney, Rahul Kohli, Annarah Cymone, Annabeth Gish, Alex Essoe, Rahul Abburi, Matt Biedel, Michael Trucco, Crystal Balint, Louis Oliver</td><td>null</td><td>September 24, 2021</td><td>2021</td><td>TV-MA</td><td>1 Season</td><td>TV Dramas, TV Horror, TV Mysteries</td><td>The arrival of a charismatic young priest brings glorious miracles, ominous mysteries and renewed religious fervor to a dying town desperate to believe.</td></tr><tr><td>s7</td><td>Movie</td><td>My Little Pony: A New Generation</td><td>Robert Cullen, José Luis Ucha</td><td>Vanessa Hudgens, Kimiko Glenn, James Marsden, Sofia Carson, Liza Koshy, Ken Jeong, Elizabeth Perkins, Jane Krakowski, Michael McKean, Phil LaMarr</td><td>null</td><td>September 24, 2021</td><td>2021</td><td>PG</td><td>91 min</td><td>Children & Family Movies</td><td>Equestria's divided. But a bright-eyed hero believes Earth Ponies, Pegasi and Unicorns should be pals — and, hoof to heart, she’s determined to prove it.</td></tr><tr><td>s8</td><td>Movie</td><td>Sankofa</td><td>Haile Gerima</td><td>Kofi Ghanaba, Oyafunmike Ogunlano, Alexandra Duah, Nick Medley, Mutabaruka, Afemo Omilami, Reggie Carter, Mzuri</td><td>United States, Ghana, Burkina Faso, United Kingdom, Germany, Ethiopia</td><td>September 24, 2021</td><td>1993</td><td>TV-MA</td><td>125 min</td><td>Dramas, Independent Movies, International Movies</td><td>On a photo shoot in Ghana, an American model slips back in time, becomes enslaved on a plantation and bears witness to the agony of her ancestral past.</td></tr><tr><td>s9</td><td>TV Show</td><td>The Great British Baking Show</td><td>Andy Devonshire</td><td>Mel Giedroyc, Sue Perkins, Mary Berry, Paul Hollywood</td><td>United Kingdom</td><td>September 24, 2021</td><td>2021</td><td>TV-14</td><td>9 Seasons</td><td>British TV Shows, Reality TV</td><td>A talented batch of amateur bakers face off in a 10-week competition, whipping up their best dishes in the hopes of being named the U.K.'s best.</td></tr><tr><td>s10</td><td>Movie</td><td>The Starling</td><td>Theodore Melfi</td><td>Melissa McCarthy, Chris O'Dowd, Kevin Kline, Timothy Olyphant, Daveed Diggs, Skyler Gisondo, Laura Harrier, Rosalind Chao, Kimberly Quinn, Loretta Devine, Ravi Kapoor</td><td>United States</td><td>September 24, 2021</td><td>2021</td><td>PG-13</td><td>104 min</td><td>Comedies, Dramas</td><td>A woman adjusting to life after a loss contends with a feisty bird that's taken over her garden — and a husband who's struggling to find a way forward.</td></tr></tbody></table></div>"
      ]
     },
     "metadata": {
      "application/vnd.databricks.v1+output": {
       "addedWidgets": {},
       "aggData": [],
       "aggError": "",
       "aggOverflow": false,
       "aggSchema": [],
       "aggSeriesLimitReached": false,
       "aggType": "",
       "arguments": {},
       "columnCustomDisplayInfos": {},
       "data": [
        [
         "s1",
         "Movie",
         "Dick Johnson Is Dead",
         "Kirsten Johnson",
         null,
         "United States",
         "September 25, 2021",
         2020,
         "PG-13",
         "90 min",
         "Documentaries",
         "As her father nears the end of his life, filmmaker Kirsten Johnson stages his death in inventive and comical ways to help them both face the inevitable."
        ],
        [
         "s2",
         "TV Show",
         "Blood & Water",
         null,
         "Ama Qamata, Khosi Ngema, Gail Mabalane, Thabang Molaba, Dillon Windvogel, Natasha Thahane, Arno Greeff, Xolile Tshabalala, Getmore Sithole, Cindy Mahlangu, Ryle De Morny, Greteli Fincham, Sello Maake Ka-Ncube, Odwa Gwanya, Mekaila Mathys, Sandi Schultz, Duane Williams, Shamilla Miller, Patrick Mofokeng",
         "South Africa",
         "September 24, 2021",
         2021,
         "TV-MA",
         "2 Seasons",
         "International TV Shows, TV Dramas, TV Mysteries",
         "After crossing paths at a party, a Cape Town teen sets out to prove whether a private-school swimming star is her sister who was abducted at birth."
        ],
        [
         "s3",
         "TV Show",
         "Ganglands",
         "Julien Leclercq",
         "Sami Bouajila, Tracy Gotoas, Samuel Jouy, Nabiha Akkari, Sofia Lesaffre, Salim Kechiouche, Noureddine Farihi, Geert Van Rampelberg, Bakary Diombera",
         null,
         "September 24, 2021",
         2021,
         "TV-MA",
         "1 Season",
         "Crime TV Shows, International TV Shows, TV Action & Adventure",
         "To protect his family from a powerful drug lord, skilled thief Mehdi and his expert team of robbers are pulled into a violent and deadly turf war."
        ],
        [
         "s4",
         "TV Show",
         "Jailbirds New Orleans",
         null,
         null,
         null,
         "September 24, 2021",
         2021,
         "TV-MA",
         "1 Season",
         "Docuseries, Reality TV",
         "Feuds, flirtations and toilet talk go down among the incarcerated women at the Orleans Justice Center in New Orleans on this gritty reality series."
        ],
        [
         "s5",
         "TV Show",
         "Kota Factory",
         null,
         "Mayur More, Jitendra Kumar, Ranjan Raj, Alam Khan, Ahsaas Channa, Revathi Pillai, Urvi Singh, Arun Kumar",
         "India",
         "September 24, 2021",
         2021,
         "TV-MA",
         "2 Seasons",
         "International TV Shows, Romantic TV Shows, TV Comedies",
         "In a city of coaching centers known to train India’s finest collegiate minds, an earnest but unexceptional student and his friends navigate campus life."
        ],
        [
         "s6",
         "TV Show",
         "Midnight Mass",
         "Mike Flanagan",
         "Kate Siegel, Zach Gilford, Hamish Linklater, Henry Thomas, Kristin Lehman, Samantha Sloyan, Igby Rigney, Rahul Kohli, Annarah Cymone, Annabeth Gish, Alex Essoe, Rahul Abburi, Matt Biedel, Michael Trucco, Crystal Balint, Louis Oliver",
         null,
         "September 24, 2021",
         2021,
         "TV-MA",
         "1 Season",
         "TV Dramas, TV Horror, TV Mysteries",
         "The arrival of a charismatic young priest brings glorious miracles, ominous mysteries and renewed religious fervor to a dying town desperate to believe."
        ],
        [
         "s7",
         "Movie",
         "My Little Pony: A New Generation",
         "Robert Cullen, José Luis Ucha",
         "Vanessa Hudgens, Kimiko Glenn, James Marsden, Sofia Carson, Liza Koshy, Ken Jeong, Elizabeth Perkins, Jane Krakowski, Michael McKean, Phil LaMarr",
         null,
         "September 24, 2021",
         2021,
         "PG",
         "91 min",
         "Children & Family Movies",
         "Equestria's divided. But a bright-eyed hero believes Earth Ponies, Pegasi and Unicorns should be pals — and, hoof to heart, she’s determined to prove it."
        ],
        [
         "s8",
         "Movie",
         "Sankofa",
         "Haile Gerima",
         "Kofi Ghanaba, Oyafunmike Ogunlano, Alexandra Duah, Nick Medley, Mutabaruka, Afemo Omilami, Reggie Carter, Mzuri",
         "United States, Ghana, Burkina Faso, United Kingdom, Germany, Ethiopia",
         "September 24, 2021",
         1993,
         "TV-MA",
         "125 min",
         "Dramas, Independent Movies, International Movies",
         "On a photo shoot in Ghana, an American model slips back in time, becomes enslaved on a plantation and bears witness to the agony of her ancestral past."
        ],
        [
         "s9",
         "TV Show",
         "The Great British Baking Show",
         "Andy Devonshire",
         "Mel Giedroyc, Sue Perkins, Mary Berry, Paul Hollywood",
         "United Kingdom",
         "September 24, 2021",
         2021,
         "TV-14",
         "9 Seasons",
         "British TV Shows, Reality TV",
         "A talented batch of amateur bakers face off in a 10-week competition, whipping up their best dishes in the hopes of being named the U.K.'s best."
        ],
        [
         "s10",
         "Movie",
         "The Starling",
         "Theodore Melfi",
         "Melissa McCarthy, Chris O'Dowd, Kevin Kline, Timothy Olyphant, Daveed Diggs, Skyler Gisondo, Laura Harrier, Rosalind Chao, Kimberly Quinn, Loretta Devine, Ravi Kapoor",
         "United States",
         "September 24, 2021",
         2021,
         "PG-13",
         "104 min",
         "Comedies, Dramas",
         "A woman adjusting to life after a loss contends with a feisty bird that's taken over her garden — and a husband who's struggling to find a way forward."
        ]
       ],
       "datasetInfos": [],
       "dbfsResultPath": null,
       "isJsonSchema": true,
       "metadata": {},
       "overflow": false,
       "plotOptions": {
        "customPlotOptions": {},
        "displayType": "table",
        "pivotAggregation": null,
        "pivotColumns": null,
        "xColumns": null,
        "yColumns": null
       },
       "removedWidgets": [],
       "schema": [
        {
         "metadata": "{}",
         "name": "show_id",
         "type": "\"string\""
        },
        {
         "metadata": "{}",
         "name": "type",
         "type": "\"string\""
        },
        {
         "metadata": "{}",
         "name": "title",
         "type": "\"string\""
        },
        {
         "metadata": "{}",
         "name": "director",
         "type": "\"string\""
        },
        {
         "metadata": "{}",
         "name": "cast",
         "type": "\"string\""
        },
        {
         "metadata": "{}",
         "name": "country",
         "type": "\"string\""
        },
        {
         "metadata": "{}",
         "name": "date_added",
         "type": "\"string\""
        },
        {
         "metadata": "{}",
         "name": "release_year",
         "type": "\"long\""
        },
        {
         "metadata": "{}",
         "name": "rating",
         "type": "\"string\""
        },
        {
         "metadata": "{}",
         "name": "duration",
         "type": "\"string\""
        },
        {
         "metadata": "{}",
         "name": "listed_in",
         "type": "\"string\""
        },
        {
         "metadata": "{}",
         "name": "description",
         "type": "\"string\""
        }
       ],
       "type": "table"
      }
     },
     "output_type": "display_data"
    }
   ],
   "source": [
    "import zipfile\n",
    "import pandas as pd\n",
    "\n",
    "# Step 1: Load dataset from Volumes\n",
    "zip_path = \"/Volumes/workspace/default/netflix/netflix.csv.zip\"\n",
    "extract_path = \"/Volumes/workspace/default/netflix/\"\n",
    "\n",
    "with zipfile.ZipFile(zip_path, 'r') as zip_ref:\n",
    "    zip_ref.extractall(extract_path)\n",
    "\n",
    "csv_path = extract_path + \"netflix_titles.csv\"\n",
    "df = pd.read_csv(csv_path)\n",
    "\n",
    "# Display full dataset (or a large subset)\n",
    "pd.set_option('display.max_rows', None)    # temporarily allow showing all rows\n",
    "display(df.head(10))\n",
    "pd.reset_option('display.max_rows')"
   ]
  },
  {
   "cell_type": "code",
   "execution_count": 0,
   "metadata": {
    "application/vnd.databricks.v1+cell": {
     "cellMetadata": {
      "byteLimit": 2048000,
      "rowLimit": 10000
     },
     "inputWidgets": {},
     "nuid": "2f40bc81-cb5e-44d1-bdba-11d3201de9db",
     "showTitle": false,
     "tableResultSettingsMap": {},
     "title": ""
    }
   },
   "outputs": [
    {
     "output_type": "stream",
     "name": "stdout",
     "output_type": "stream",
     "text": [
      "Shape: (8807, 12)\n\nMissing values per column:\n show_id            0\ntype               0\ntitle              0\ndirector        2634\ncast             825\ncountry          831\ndate_added        10\nrelease_year       0\nrating             4\nduration           3\nlisted_in          0\ndescription        0\ndtype: int64\n<class 'pandas.core.frame.DataFrame'>\nRangeIndex: 8807 entries, 0 to 8806\nData columns (total 12 columns):\n #   Column        Non-Null Count  Dtype \n---  ------        --------------  ----- \n 0   show_id       8807 non-null   object\n 1   type          8807 non-null   object\n 2   title         8807 non-null   object\n 3   director      6173 non-null   object\n 4   cast          7982 non-null   object\n 5   country       7976 non-null   object\n 6   date_added    8797 non-null   object\n 7   release_year  8807 non-null   int64 \n 8   rating        8803 non-null   object\n 9   duration      8804 non-null   object\n 10  listed_in     8807 non-null   object\n 11  description   8807 non-null   object\ndtypes: int64(1), object(11)\nmemory usage: 825.8+ KB\n"
     ]
    }
   ],
   "source": [
    "# Step 2: Inspect the dataset\n",
    "print(\"Shape:\", df.shape)\n",
    "print(\"\\nMissing values per column:\\n\", df.isnull().sum())\n",
    "df.info()\n"
   ]
  },
  {
   "cell_type": "code",
   "execution_count": 0,
   "metadata": {
    "application/vnd.databricks.v1+cell": {
     "cellMetadata": {
      "byteLimit": 2048000,
      "rowLimit": 10000
     },
     "inputWidgets": {},
     "nuid": "15d7fbf4-d8e7-45ce-b04d-8aef363b6cd2",
     "showTitle": false,
     "tableResultSettingsMap": {},
     "title": ""
    }
   },
   "outputs": [],
   "source": [
    "# Simple fix: ensure object / string columns are plain strings\n",
    "for col in df.columns:\n",
    "    if df[col].dtype == 'object':\n",
    "        df[col] = df[col].astype(str)\n",
    "\n",
    "# Now convert to Spark\n",
    "spark_df = spark.createDataFrame(df)\n"
   ]
  },
  {
   "cell_type": "code",
   "execution_count": 0,
   "metadata": {
    "application/vnd.databricks.v1+cell": {
     "cellMetadata": {
      "byteLimit": 2048000,
      "rowLimit": 10000
     },
     "inputWidgets": {},
     "nuid": "e6c2659c-daf0-4a73-92ed-f837deb66548",
     "showTitle": false,
     "tableResultSettingsMap": {},
     "title": ""
    }
   },
   "outputs": [],
   "source": [
    "# Step 3: Remove duplicates & fill missing values safely\n",
    "\n",
    "# Remove duplicate rows\n",
    "df = df.drop_duplicates()\n",
    "\n",
    "# Fill missing values for categorical/text columns\n",
    "df['director'] = df['director'].fillna(\"Unknown\")\n",
    "df['cast'] = df['cast'].fillna(\"Unknown\")\n",
    "df['country'] = df['country'].fillna(\"Unknown\")\n",
    "df['rating'] = df['rating'].fillna(\"Not Rated\")\n",
    "df['date_added'] = df['date_added'].fillna(\"Unknown\")\n",
    "df['listed_in'] = df['listed_in'].fillna(\"Unknown\")\n",
    "df['duration'] = df['duration'].fillna(\"Unknown\")\n",
    "df['description'] = df['description'].fillna(\"No description available\")"
   ]
  },
  {
   "cell_type": "code",
   "execution_count": 0,
   "metadata": {
    "application/vnd.databricks.v1+cell": {
     "cellMetadata": {
      "byteLimit": 2048000,
      "rowLimit": 10000
     },
     "inputWidgets": {},
     "nuid": "c57e3c88-aeb1-4a22-9a7b-4b3084ff7b74",
     "showTitle": false,
     "tableResultSettingsMap": {},
     "title": ""
    }
   },
   "outputs": [
    {
     "output_type": "stream",
     "name": "stdout",
     "output_type": "stream",
     "text": [
      "✅ Missing values handled\nshow_id         0\ntype            0\ntitle           0\ndirector        0\ncast            0\ncountry         0\ndate_added      0\nrelease_year    0\nrating          0\nduration        0\nlisted_in       0\ndescription     0\ndtype: int64\n"
     ]
    }
   ],
   "source": [
    "# Step 4: Handle missing values\n",
    "df['director'] = df['director'].fillna(\"Unknown\")\n",
    "df['cast'] = df['cast'].fillna(\"Unknown\")\n",
    "df['country'] = df['country'].fillna(\"Unknown\")\n",
    "df['rating'] = df['rating'].fillna(\"Not Rated\")\n",
    "df['date_added'] = df['date_added'].fillna(\"Unknown\")\n",
    "\n",
    "print(\"✅ Missing values handled\")\n",
    "print(df.isnull().sum())\n"
   ]
  },
  {
   "cell_type": "code",
   "execution_count": 0,
   "metadata": {
    "application/vnd.databricks.v1+cell": {
     "cellMetadata": {
      "byteLimit": 2048000,
      "rowLimit": 10000
     },
     "inputWidgets": {},
     "nuid": "b391db79-f007-4f7e-904f-170065e5f5ba",
     "showTitle": false,
     "tableResultSettingsMap": {},
     "title": ""
    }
   },
   "outputs": [
    {
     "output_type": "stream",
     "name": "stdout",
     "output_type": "stream",
     "text": [
      "Unique values in 'type': ['Movie' 'TV Show']\nUnique values in 'rating': ['PG-13' 'TV-MA' 'PG' 'TV-14' 'TV-PG' 'TV-Y' 'TV-Y7' 'R' 'TV-G' 'G'\n 'NC-17' '74 min' '84 min' '66 min' 'NR' 'nan' 'TV-Y7-FV' 'UR']\n"
     ]
    }
   ],
   "source": [
    "# Step 5: Normalize categorical text\n",
    "df['type'] = df['type'].str.strip()\n",
    "df['rating'] = df['rating'].str.strip()\n",
    "df['country'] = df['country'].str.strip()\n",
    "\n",
    "print(\"Unique values in 'type':\", df['type'].unique())\n",
    "print(\"Unique values in 'rating':\", df['rating'].unique())\n"
   ]
  },
  {
   "cell_type": "code",
   "execution_count": 0,
   "metadata": {
    "application/vnd.databricks.v1+cell": {
     "cellMetadata": {
      "byteLimit": 2048000,
      "rowLimit": 10000
     },
     "inputWidgets": {},
     "nuid": "fe84aeee-108b-410b-8385-4450f8229410",
     "showTitle": false,
     "tableResultSettingsMap": {},
     "title": ""
    }
   },
   "outputs": [
    {
     "output_type": "stream",
     "name": "stdout",
     "output_type": "stream",
     "text": [
      "Unique rating groups: ['Teens' 'Adult' 'Kids' 'Other']\nCounts per group:\n Adult    4009\nTeens    2650\nKids     1832\nOther     316\nName: rating_group, dtype: int64\n"
     ]
    }
   ],
   "source": [
    "# 7.1: Group ratings into broader categories\n",
    "rating_map = {\n",
    "    \"TV-MA\": \"Adult\", \"R\": \"Adult\", \"NC-17\": \"Adult\",\n",
    "    \"PG-13\": \"Teens\", \"TV-14\": \"Teens\",\n",
    "    \"G\": \"Kids\", \"PG\": \"Kids\", \"TV-Y\": \"Kids\", \"TV-Y7\": \"Kids\",\n",
    "    \"TV-PG\": \"Kids\"\n",
    "}\n",
    "df['rating_group'] = df['rating'].map(rating_map).fillna(\"Other\")\n",
    "\n",
    "print(\"Unique rating groups:\", df['rating_group'].unique())\n",
    "print(\"Counts per group:\\n\", df['rating_group'].value_counts())\n"
   ]
  },
  {
   "cell_type": "code",
   "execution_count": 0,
   "metadata": {
    "application/vnd.databricks.v1+cell": {
     "cellMetadata": {
      "byteLimit": 2048000,
      "rowLimit": 10000
     },
     "inputWidgets": {},
     "nuid": "dc6b5d0b-f932-4e07-b8ea-cbd052b0b4f3",
     "showTitle": false,
     "tableResultSettingsMap": {},
     "title": ""
    }
   },
   "outputs": [
    {
     "output_type": "stream",
     "name": "stdout",
     "output_type": "stream",
     "text": [
      "Unique primary genres: ['Documentaries' 'International TV Shows' 'Crime TV Shows' 'Docuseries'\n 'TV Dramas' 'Children & Family Movies' 'Dramas' 'British TV Shows'\n 'Comedies' 'TV Comedies']\nDramas                      1600\nComedies                    1210\nAction & Adventure           859\nDocumentaries                829\nInternational TV Shows       774\nChildren & Family Movies     605\nCrime TV Shows               399\nKids' TV                     388\nStand-Up Comedy              334\nHorror Movies                275\nName: primary_genre, dtype: int64\n"
     ]
    }
   ],
   "source": [
    "# 7.2: Extract primary genre (first genre in the list)\n",
    "df['primary_genre'] = df['listed_in'].apply(\n",
    "    lambda x: x.split(',')[0].strip() if pd.notnull(x) and isinstance(x, str) else \"Unknown\"\n",
    ")\n",
    "\n",
    "print(\"Unique primary genres:\", df['primary_genre'].unique()[:10])\n",
    "print(df['primary_genre'].value_counts().head(10))\n"
   ]
  },
  {
   "cell_type": "code",
   "execution_count": 0,
   "metadata": {
    "application/vnd.databricks.v1+cell": {
     "cellMetadata": {
      "byteLimit": 2048000,
      "rowLimit": 10000
     },
     "inputWidgets": {},
     "nuid": "96414438-85ac-4683-9773-e5e30a21d0de",
     "showTitle": false,
     "tableResultSettingsMap": {},
     "title": ""
    }
   },
   "outputs": [
    {
     "output_type": "stream",
     "name": "stdout",
     "output_type": "stream",
     "text": [
      "Genre categories: ['Action & Adventure', 'Anime Features', 'Anime Series', 'British TV Shows', 'Children & Family Movies', 'Classic & Cult TV', 'Classic Movies', 'Comedies', 'Crime TV Shows', 'Cult Movies', 'Documentaries', 'Docuseries', 'Dramas', 'Horror Movies', 'Independent Movies', 'International Movies', 'International TV Shows', \"Kids' TV\", 'LGBTQ Movies', 'Movies', 'Music & Musicals', 'Reality TV', 'Romantic Movies', 'Romantic TV Shows', 'Sci-Fi & Fantasy', 'Spanish-Language TV Shows', 'Sports Movies', 'Stand-Up Comedy', 'Stand-Up Comedy & Talk Shows', 'TV Action & Adventure', 'TV Comedies', 'TV Dramas', 'TV Horror', 'TV Sci-Fi & Fantasy', 'TV Shows', 'Thrillers']\nCodes used: [10 16  8 11 31  4 12  3  7 30 35 13 17  0 21  2 15 24  6 34 27 29 19 28\n  5  1 23  9 14 32 25 20 22 18 33 26]\n"
     ]
    }
   ],
   "source": [
    "# 7.3: Label encode the primary_genre\n",
    "df['primary_genre_code'] = df['primary_genre'].astype('category').cat.codes\n",
    "\n",
    "# Show mapping\n",
    "genre_categories = df['primary_genre'].astype('category').cat.categories\n",
    "print(\"Genre categories:\", list(genre_categories))\n",
    "print(\"Codes used:\", df['primary_genre_code'].unique())\n"
   ]
  },
  {
   "cell_type": "code",
   "execution_count": 0,
   "metadata": {
    "application/vnd.databricks.v1+cell": {
     "cellMetadata": {
      "byteLimit": 2048000,
      "rowLimit": 10000
     },
     "inputWidgets": {},
     "nuid": "0083e315-0597-4291-9b42-ab55a85366f8",
     "showTitle": false,
     "tableResultSettingsMap": {},
     "title": ""
    }
   },
   "outputs": [
    {
     "output_type": "stream",
     "name": "stdout",
     "output_type": "stream",
     "text": [
      "Some country frequencies:\n                                               country  country_freq\n0                                       United States      0.319973\n1                                        South Africa      0.003406\n2                                                 nan      0.094357\n4                                               India      0.110367\n7   United States, Ghana, Burkina Faso, United Kin...      0.000114\n8                                      United Kingdom      0.047576\n12                            Germany, Czech Republic      0.000227\n17                                             Mexico      0.012490\n21                                             Turkey      0.011922\n25                                          Australia      0.009879\n"
     ]
    }
   ],
   "source": [
    "## 7.5: Frequency encode country (proportion of dataset for each country)\n",
    "country_freq = df['country'].value_counts(normalize=True)\n",
    "df['country_freq'] = df['country'].map(country_freq)\n",
    "\n",
    "print(\"Some country frequencies:\\n\", df[['country', 'country_freq']].drop_duplicates().head(10))\n"
   ]
  },
  {
   "cell_type": "code",
   "execution_count": 0,
   "metadata": {
    "application/vnd.databricks.v1+cell": {
     "cellMetadata": {
      "byteLimit": 2048000,
      "rowLimit": 10000
     },
     "inputWidgets": {},
     "nuid": "b7b2a05e-507e-4521-8e0f-c8ad20783928",
     "showTitle": false,
     "tableResultSettingsMap": {},
     "title": ""
    }
   },
   "outputs": [],
   "source": [
    "import pandas as pd\n",
    "import zipfile\n",
    "\n",
    "zip_path = \"/Volumes/workspace/default/netflix/netflix.csv.zip\"\n",
    "extract_path = \"/Volumes/workspace/default/netflix/\"\n",
    "\n",
    "with zipfile.ZipFile(zip_path, 'r') as zip_ref:\n",
    "    zip_ref.extractall(extract_path)\n",
    "\n",
    "csv_path = extract_path + \"netflix_titles.csv\"\n",
    "df = pd.read_csv(csv_path)\n",
    "\n",
    "\n",
    "\n"
   ]
  },
  {
   "cell_type": "code",
   "execution_count": 0,
   "metadata": {
    "application/vnd.databricks.v1+cell": {
     "cellMetadata": {
      "byteLimit": 2048000,
      "rowLimit": 10000
     },
     "inputWidgets": {},
     "nuid": "638c3c74-b09d-48a6-b50d-bf64bec265bd",
     "showTitle": false,
     "tableResultSettingsMap": {},
     "title": ""
    }
   },
   "outputs": [],
   "source": [
    "rating_map = {\n",
    "    \"TV-MA\": \"Adult\", \"R\": \"Adult\", \"NC-17\": \"Adult\",\n",
    "    \"PG-13\": \"Teens\", \"TV-14\": \"Teens\",\n",
    "    \"G\": \"Kids\", \"PG\": \"Kids\", \"TV-Y\": \"Kids\", \"TV-Y7\": \"Kids\",\n",
    "    \"TV-PG\": \"Kids\"\n",
    "}\n",
    "df['rating_group'] = df['rating'].map(rating_map).fillna(\"Other\")\n"
   ]
  },
  {
   "cell_type": "code",
   "execution_count": 0,
   "metadata": {
    "application/vnd.databricks.v1+cell": {
     "cellMetadata": {
      "byteLimit": 2048000,
      "rowLimit": 10000
     },
     "inputWidgets": {},
     "nuid": "cd2434ec-9f3a-48af-90c7-132bb9dbd912",
     "showTitle": false,
     "tableResultSettingsMap": {},
     "title": ""
    }
   },
   "outputs": [],
   "source": [
    "df['primary_genre'] = df['listed_in'].apply(\n",
    "    lambda x: x.split(',')[0].strip() if isinstance(x, str) else \"Unknown\")"
   ]
  },
  {
   "cell_type": "code",
   "execution_count": 0,
   "metadata": {
    "application/vnd.databricks.v1+cell": {
     "cellMetadata": {
      "byteLimit": 2048000,
      "rowLimit": 10000
     },
     "inputWidgets": {},
     "nuid": "c1265ed7-bd70-4799-a521-e872f13527c0",
     "showTitle": false,
     "tableResultSettingsMap": {},
     "title": ""
    }
   },
   "outputs": [],
   "source": [
    "df['primary_genre_code'] = df['primary_genre'].astype('category').cat.codes\n",
    "\n"
   ]
  },
  {
   "cell_type": "code",
   "execution_count": 0,
   "metadata": {
    "application/vnd.databricks.v1+cell": {
     "cellMetadata": {
      "byteLimit": 2048000,
      "rowLimit": 10000
     },
     "inputWidgets": {},
     "nuid": "e4bb7453-b4c7-4d3d-9a75-b6c8f8e76127",
     "showTitle": false,
     "tableResultSettingsMap": {},
     "title": ""
    }
   },
   "outputs": [],
   "source": [
    "type_dummies = pd.get_dummies(df['type'], prefix='type')\n",
    "df = pd.concat([df, type_dummies], axis=1)\n"
   ]
  },
  {
   "cell_type": "code",
   "execution_count": 0,
   "metadata": {
    "application/vnd.databricks.v1+cell": {
     "cellMetadata": {
      "byteLimit": 2048000,
      "rowLimit": 10000
     },
     "inputWidgets": {},
     "nuid": "112b5549-b1e2-4f8c-8e94-0c5b3a4ceca9",
     "showTitle": false,
     "tableResultSettingsMap": {},
     "title": ""
    }
   },
   "outputs": [
    {
     "output_type": "stream",
     "name": "stdout",
     "output_type": "stream",
     "text": [
      "Country freq and duration categories created\n"
     ]
    }
   ],
   "source": [
    "\n",
    "country_freq = df['country'].value_counts(normalize=True)\n",
    "df['country_freq'] = df['country'].map(country_freq)\n",
    "def categorize_duration(val):\n",
    "    if pd.isnull(val) or not isinstance(val, str):\n",
    "        return \"Unknown\"\n",
    "    if \"Season\" in val:\n",
    "        return \"TV Show\"\n",
    "    try:\n",
    "        minutes = int(val.split()[0])\n",
    "        if minutes < 60:\n",
    "            return \"Short\"\n",
    "        elif minutes <= 120:\n",
    "            return \"Standard\"\n",
    "        else:\n",
    "            return \"Long\"\n",
    "    except:\n",
    "        return \"Unknown\"\n",
    "\n",
    "df['duration_category'] = df['duration'].apply(categorize_duration)\n",
    "\n",
    "print(\"Country freq and duration categories created\")\n",
    "\n",
    "\n",
    "\n",
    "\n"
   ]
  },
  {
   "cell_type": "code",
   "execution_count": 0,
   "metadata": {
    "application/vnd.databricks.v1+cell": {
     "cellMetadata": {
      "byteLimit": 2048000,
      "rowLimit": 10000
     },
     "inputWidgets": {},
     "nuid": "c647d7ff-e38f-4ba2-9078-f3ac7f1877eb",
     "showTitle": false,
     "tableResultSettingsMap": {},
     "title": ""
    }
   },
   "outputs": [
    {
     "output_type": "stream",
     "name": "stdout",
     "output_type": "stream",
     "text": [
      "Final clean dataset shape: (8807, 19)\n\nMissing values after cleaning:\n show_id                  0\ntype                     0\ntitle                    0\ndirector              2634\ncast                   825\ncountry                831\ndate_added              10\nrelease_year             0\nrating                   4\nduration                 3\nlisted_in                0\ndescription              0\nrating_group             0\nprimary_genre            0\nprimary_genre_code       0\ntype_Movie               0\ntype_TV Show             0\ncountry_freq           831\nduration_category        0\ndtype: int64\n"
     ]
    }
   ],
   "source": [
    "## Cast int8 and int16 columns to int32 to avoid Arrow type errors\n",
    "for col in df.select_dtypes(include=['int8', 'int16']).columns:\n",
    "    df[col] = df[col].astype('int32')\n",
    "\n",
    "print(\"Final clean dataset shape:\", df.shape)\n",
    "print(\"\\nMissing values after cleaning:\\n\", df.isnull().sum())\n",
    "\n",
    "# Convert to Spark DataFrame before display\n",
    "spark_df = spark.createDataFrame(df)\n"
   ]
  },
  {
   "cell_type": "code",
   "execution_count": 0,
   "metadata": {
    "application/vnd.databricks.v1+cell": {
     "cellMetadata": {
      "byteLimit": 2048000,
      "rowLimit": 10000
     },
     "inputWidgets": {},
     "nuid": "7461bf87-cdba-47fe-8ed3-ed023f36f3c3",
     "showTitle": false,
     "tableResultSettingsMap": {},
     "title": ""
    }
   },
   "outputs": [
    {
     "output_type": "stream",
     "name": "stdout",
     "output_type": "stream",
     "text": [
      "Saved cleaned CSV at: /Volumes/workspace/default/netflix/netflix_titles_clean.csv\n"
     ]
    }
   ],
   "source": [
    "cleaned_path = \"/Volumes/workspace/default/netflix/netflix_titles_clean.csv\"\n",
    "df.to_csv(cleaned_path, index=False)\n",
    "print(\"Saved cleaned CSV at:\", cleaned_path)\n"
   ]
  }
 ],
 "metadata": {
  "application/vnd.databricks.v1+notebook": {
   "computePreferences": {
    "hardware": {
     "accelerator": null,
     "gpuPoolId": null,
     "memory": null
    }
   },
   "dashboards": [],
   "environmentMetadata": {
    "base_environment": "",
    "environment_version": "3"
   },
   "inputWidgetPreferences": null,
   "language": "python",
   "notebookMetadata": {
    "pythonIndentUnit": 4
   },
   "notebookName": "Netflix_Mildstone1",
   "widgets": {}
  },
  "language_info": {
   "name": "python"
  }
 },
 "nbformat": 4,
 "nbformat_minor": 0
}